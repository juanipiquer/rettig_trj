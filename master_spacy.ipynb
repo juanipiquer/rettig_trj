{
 "cells": [
  {
   "cell_type": "markdown",
   "metadata": {},
   "source": [
    "# Script spacy informe Rettig"
   ]
  },
  {
   "cell_type": "markdown",
   "metadata": {},
   "source": [
    "##### 1. import tabla eventos del sparcing"
   ]
  },
  {
   "cell_type": "code",
   "execution_count": 2,
   "metadata": {},
   "outputs": [
    {
     "name": "stdout",
     "output_type": "stream",
     "text": [
      "html object created\n",
      "HTML content has been exported to data_out/output.html.\n"
     ]
    }
   ],
   "source": [
    "import pandas as pd\n",
    "\n",
    "# correr el codigo de sparcing\n",
    "%run script_parsing.ipynb\n",
    "\n",
    "\n",
    "events = pd.read_csv('data_out/events_rettig.csv')\n",
    "events = events['events'].tolist()"
   ]
  },
  {
   "cell_type": "markdown",
   "metadata": {},
   "source": [
    "#### 2. Maqueta spaCy summary y NER"
   ]
  },
  {
   "cell_type": "markdown",
   "metadata": {},
   "source": [
    "Proceso la base de datos iterando por evento con un modelo de lenguaje de spacy que tiene tokenizer y NER. Con el tokenizer hago un summary y con el NER le hago detectar todas las NER. \n",
    "\n",
    "La base de datos no está bien lista, hay que mejorar el modelo del summary y hay que destilar las entidades, pero muestra el tipo de output que se puede hacer. "
   ]
  },
  {
   "cell_type": "code",
   "execution_count": 3,
   "metadata": {},
   "outputs": [
    {
     "name": "stderr",
     "output_type": "stream",
     "text": [
      "/Users/juanipiquer/anaconda3/lib/python3.11/site-packages/spacy/util.py:910: UserWarning: [W095] Model 'es_core_news_sm' (3.1.0) was trained with spaCy v3.1.0 and may not be 100% compatible with the current version (3.7.4). If you see errors or degraded performance, download a newer compatible model or retrain your custom model with the current spaCy version. For more details and available updates, run: python -m spacy validate\n",
      "  warnings.warn(warn_msg)\n"
     ]
    }
   ],
   "source": [
    "import spacy\n",
    "from spacy.lang.es.stop_words import STOP_WORDS\n",
    "from collections import Counter\n",
    "\n",
    "# modelo español con NER, tokennizer, etc. \n",
    "nlp = spacy.load(\"es_core_news_sm\")\n",
    "\n",
    "#####\n",
    "# def funcion para summary y NER \n",
    "def generate_summary(text, num_sentences=3):\n",
    "    # procesar texto \n",
    "    doc = nlp(text)\n",
    "    \n",
    "    # filtrar stop words de la bagg of words \n",
    "    words = [token.text for token in doc if not token.is_stop and not token.is_punct]\n",
    "    \n",
    "    # word frequency \n",
    "    word_freq = Counter(words)\n",
    "    \n",
    "    # sentence frequency \n",
    "    sentence_scores = {}\n",
    "    for sent in doc.sents:\n",
    "        for word in sent:\n",
    "            if word.text in word_freq:\n",
    "                if sent not in sentence_scores:\n",
    "                    sentence_scores[sent] = word_freq[word.text]\n",
    "                else:\n",
    "                    sentence_scores[sent] += word_freq[word.text]\n",
    "    \n",
    "    \n",
    "\n",
    "    # top sentences \n",
    "    top_sentences = sorted(sentence_scores, key=sentence_scores.get, reverse=True)[:num_sentences]\n",
    "    \n",
    "    # pegamos el summary\n",
    "    summary = ' '.join(str(sent) for sent in top_sentences)\n",
    "\n",
    "    ### NER\n",
    "    # extraer entidades\n",
    "    entities = [ent for ent in doc.ents if ent.text.lower() not in STOP_WORDS]\n",
    "    \n",
    "    # pegar tag con entidad\n",
    "    entity_pairs = [(ent.label_, ent.text) for ent in entities]\n",
    "    ###\n",
    "\n",
    "    # output \n",
    "    return summary, entity_pairs\n",
    "#####\n",
    "\n",
    "# iteramos la función sobre cada evento\n",
    "eventos_summary_ner = []\n",
    "for event in events:\n",
    "    summary, entity_pairs = generate_summary(event)\n",
    "    eventos_summary_ner.append((event, summary, entity_pairs))"
   ]
  },
  {
   "cell_type": "code",
   "execution_count": 4,
   "metadata": {},
   "outputs": [],
   "source": [
    "# export excel\n",
    "eventos_summary_ner = pd.DataFrame(eventos_summary_ner)\n",
    "\n",
    "eventos_summary_ner.to_excel('data_out/eventos_summary_ner.xlsx')"
   ]
  }
 ],
 "metadata": {
  "kernelspec": {
   "display_name": "Python 3",
   "language": "python",
   "name": "python3"
  },
  "language_info": {
   "codemirror_mode": {
    "name": "ipython",
    "version": 3
   },
   "file_extension": ".py",
   "mimetype": "text/x-python",
   "name": "python",
   "nbconvert_exporter": "python",
   "pygments_lexer": "ipython3",
   "version": "3.11.5"
  }
 },
 "nbformat": 4,
 "nbformat_minor": 2
}
