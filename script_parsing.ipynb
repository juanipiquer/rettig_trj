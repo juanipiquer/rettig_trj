{
 "cells": [
  {
   "cell_type": "markdown",
   "metadata": {},
   "source": [
    "# Script sparcing informe Rettig"
   ]
  },
  {
   "cell_type": "markdown",
   "metadata": {},
   "source": [
    "## 1. pasar de pdf a html el archivo"
   ]
  },
  {
   "cell_type": "markdown",
   "metadata": {},
   "source": [
    "Usé este convertidor de pdf a html. Es un wraper de pdfminer pa pasarlo a Html\n",
    "\n",
    "https://gist.github.com/rguliev/3d886d38daa8ac0be8ddb85d645fb0bc#file-convert_pdf-py"
   ]
  },
  {
   "cell_type": "code",
   "execution_count": 1,
   "metadata": {},
   "outputs": [
    {
     "name": "stdout",
     "output_type": "stream",
     "text": [
      "html object created\n"
     ]
    }
   ],
   "source": [
    "from typing import Container\n",
    "from io import BytesIO\n",
    "from pdfminer.pdfinterp import PDFResourceManager, PDFPageInterpreter\n",
    "from pdfminer.converter import HTMLConverter\n",
    "from pdfminer.layout import LAParams\n",
    "from pdfminer.pdfpage import PDFPage\n",
    "\n",
    "# definir funcion \n",
    "def convert_pdf_to_html(path: str, start_page: int, end_page: int) -> str:\n",
    "    \"\"\"Converts a range of pages from a PDF file to HTML format.\"\"\"\n",
    "    rsrcmgr = PDFResourceManager()\n",
    "    retstr = BytesIO()\n",
    "    laparams = LAParams()\n",
    "    device = HTMLConverter(rsrcmgr, retstr, laparams=laparams)\n",
    "    fp = open(path, \"rb\")\n",
    "    interpreter = PDFPageInterpreter(rsrcmgr, device)\n",
    "    for page_num, page in enumerate(PDFPage.get_pages(fp), start=1):\n",
    "        if page_num < start_page:\n",
    "            continue\n",
    "        if page_num > end_page:\n",
    "            break\n",
    "        interpreter.process_page(page)\n",
    "    html = retstr.getvalue().decode()\n",
    "    fp.close()\n",
    "    device.close()\n",
    "    retstr.close()\n",
    "    return html\n",
    "\n",
    "# definimos file path y paginas correspondientes a casos de RM\n",
    "pdf_file_path = \"informes/Informe-Rettig-tomo1.pdf\"\n",
    "start_page = 139\n",
    "end_page = 252\n",
    "\n",
    "# convert  \n",
    "html_content = convert_pdf_to_html(pdf_file_path, start_page, end_page)\n",
    "\n",
    "print(\"html object created\")"
   ]
  },
  {
   "cell_type": "code",
   "execution_count": 2,
   "metadata": {},
   "outputs": [
    {
     "name": "stdout",
     "output_type": "stream",
     "text": [
      "HTML content has been exported to data_out/output.html.\n"
     ]
    }
   ],
   "source": [
    "# exportamos el html para examinar el archivo \n",
    "\n",
    "def export_html_to_file(html_content: str, output_file: str):\n",
    "    \"\"\"Exports HTML content to a file.\"\"\"\n",
    "    with open(output_file, \"w\", encoding=\"utf-8\") as file:\n",
    "        file.write(html_content)\n",
    "\n",
    "# Define the path for the output HTML file\n",
    "output_html_file = \"data_out/output.html\"\n",
    "\n",
    "# Export HTML content to the output HTML file\n",
    "export_html_to_file(html_content, output_html_file)\n",
    " \n",
    "print(f\"HTML content has been exported to {output_html_file}.\")\n"
   ]
  },
  {
   "cell_type": "markdown",
   "metadata": {},
   "source": [
    "## 2. maniulacion del HTML para tener una base de datos"
   ]
  },
  {
   "cell_type": "markdown",
   "metadata": {},
   "source": [
    "### 1. Extracción de lista de nombres tomo I"
   ]
  },
  {
   "cell_type": "markdown",
   "metadata": {},
   "source": [
    "Usamos beautiful soup para sparcer de html"
   ]
  },
  {
   "cell_type": "code",
   "execution_count": 3,
   "metadata": {},
   "outputs": [],
   "source": [
    "\n",
    "# sacar todas las cosas en negrita \n",
    "\n",
    "from bs4 import BeautifulSoup\n",
    "\n",
    "def extract_names(html_content):\n",
    "    # Parse the HTML content\n",
    "    soup = BeautifulSoup(html_content, 'html.parser')\n",
    "\n",
    "    # encontrar las negritas \n",
    "    bold_elements = soup.find_all('span', style=lambda value: value and 'font-family: TimesNewRoman,Bold' in value and len(value) > 0)\n",
    "\n",
    "    # extraer nombres = negritas \n",
    "    names = []\n",
    "    current_name = \"\"\n",
    "    for bold_element in bold_elements:\n",
    "        text = bold_element.get_text().strip()\n",
    "\n",
    "        # append a la lista if not empty \n",
    "        if current_name:\n",
    "            names.append(current_name)\n",
    "            current_name = \"\"\n",
    "\n",
    "        # incluir todas las palabras en negrita dsps de la primera encontrada\n",
    "        if bold_element.find_next_sibling():\n",
    "            # append al nombre\n",
    "            names.append(text)\n",
    "        else:\n",
    "            # guardar el nombre total\n",
    "            current_name = text\n",
    "\n",
    "    return names\n",
    "\n",
    "# output\n",
    "names = extract_names(html_content)\n"
   ]
  },
  {
   "cell_type": "code",
   "execution_count": 4,
   "metadata": {},
   "outputs": [],
   "source": [
    "import re \n",
    "\n",
    "#limpiar \n",
    "\n",
    "# sacar los nombres que no tienen mayúscula porq no son nombres\n",
    "# y filtrar las filas vacías\n",
    "filtered_names = [\n",
    "    \n",
    "    name for name in names if any(\n",
    "\n",
    "    char.isupper() for char in name\n",
    "    )\n",
    "    ]\n",
    "\n",
    "# sacar simbolos q no son letras\n",
    "cleaned_names = [re.sub(r'[,.-]', '', name) for name in filtered_names]"
   ]
  },
  {
   "cell_type": "code",
   "execution_count": 5,
   "metadata": {},
   "outputs": [],
   "source": [
    "# pegar nombres rotos \n",
    "\n",
    "def concatenate_names(names):\n",
    "    concatenated_names = []\n",
    "    prev_name = None\n",
    "\n",
    "    for name in names:\n",
    "        if name.isupper():\n",
    "            if prev_name is not None:\n",
    "                concatenated_name = prev_name + \" \" + name\n",
    "                concatenated_names[-1] = concatenated_name\n",
    "            else:\n",
    "                concatenated_names.append(name)\n",
    "        else:\n",
    "            concatenated_names.append(name)\n",
    "            prev_name = name\n",
    "    \n",
    "    return concatenated_names\n",
    "\n",
    "concatenated_names = concatenate_names(cleaned_names)\n",
    "\n",
    "concatenated_names = [name for name in concatenated_names if name != \"Lonquén\"]\n",
    "name_list = concatenated_names[1:]\n"
   ]
  },
  {
   "cell_type": "code",
   "execution_count": 6,
   "metadata": {},
   "outputs": [
    {
     "data": {
      "text/html": [
       "<div>\n",
       "<style scoped>\n",
       "    .dataframe tbody tr th:only-of-type {\n",
       "        vertical-align: middle;\n",
       "    }\n",
       "\n",
       "    .dataframe tbody tr th {\n",
       "        vertical-align: top;\n",
       "    }\n",
       "\n",
       "    .dataframe thead th {\n",
       "        text-align: right;\n",
       "    }\n",
       "</style>\n",
       "<table border=\"1\" class=\"dataframe\">\n",
       "  <thead>\n",
       "    <tr style=\"text-align: right;\">\n",
       "      <th></th>\n",
       "      <th>names</th>\n",
       "    </tr>\n",
       "  </thead>\n",
       "  <tbody>\n",
       "    <tr>\n",
       "      <th>0</th>\n",
       "      <td>Salvador ALLENDE GOSSENS</td>\n",
       "    </tr>\n",
       "    <tr>\n",
       "      <th>1</th>\n",
       "      <td>Antonio  AGUIRRE  VASQUEZ</td>\n",
       "    </tr>\n",
       "    <tr>\n",
       "      <th>2</th>\n",
       "      <td>Osvaldo  RAMOS \\nRIVERA</td>\n",
       "    </tr>\n",
       "    <tr>\n",
       "      <th>3</th>\n",
       "      <td>Augusto  OLIVARES  BECERRA</td>\n",
       "    </tr>\n",
       "    <tr>\n",
       "      <th>4</th>\n",
       "      <td>Jaime  BARRIOS  MEZA</td>\n",
       "    </tr>\n",
       "    <tr>\n",
       "      <th>...</th>\n",
       "      <td>...</td>\n",
       "    </tr>\n",
       "    <tr>\n",
       "      <th>490</th>\n",
       "      <td>Luis  Heriberto  CONTRERAS \\nESCANILLA</td>\n",
       "    </tr>\n",
       "    <tr>\n",
       "      <th>491</th>\n",
       "      <td>Rudy Freddy VIDAL PEREIRA</td>\n",
       "    </tr>\n",
       "    <tr>\n",
       "      <th>492</th>\n",
       "      <td>Manuel  Tomás  ROJAS  FUENTES</td>\n",
       "    </tr>\n",
       "    <tr>\n",
       "      <th>493</th>\n",
       "      <td>Juan  Domingo  MARTINEZ  ALDANA</td>\n",
       "    </tr>\n",
       "    <tr>\n",
       "      <th>494</th>\n",
       "      <td>René Máximo \\nMARTINEZ ALISTE</td>\n",
       "    </tr>\n",
       "  </tbody>\n",
       "</table>\n",
       "<p>495 rows × 1 columns</p>\n",
       "</div>"
      ],
      "text/plain": [
       "                                      names\n",
       "0                  Salvador ALLENDE GOSSENS\n",
       "1                 Antonio  AGUIRRE  VASQUEZ\n",
       "2                   Osvaldo  RAMOS \\nRIVERA\n",
       "3                Augusto  OLIVARES  BECERRA\n",
       "4                      Jaime  BARRIOS  MEZA\n",
       "..                                      ...\n",
       "490  Luis  Heriberto  CONTRERAS \\nESCANILLA\n",
       "491               Rudy Freddy VIDAL PEREIRA\n",
       "492           Manuel  Tomás  ROJAS  FUENTES\n",
       "493         Juan  Domingo  MARTINEZ  ALDANA\n",
       "494           René Máximo \\nMARTINEZ ALISTE\n",
       "\n",
       "[495 rows x 1 columns]"
      ]
     },
     "execution_count": 6,
     "metadata": {},
     "output_type": "execute_result"
    }
   ],
   "source": [
    "import pandas as pd\n",
    "\n",
    "name_list = pd.DataFrame({\"names\": name_list})\n",
    "name_list.to_csv('data_out/names_rettig.csv')\n",
    "\n",
    "name_list\n",
    "\n",
    "# vemos tabla "
   ]
  },
  {
   "cell_type": "markdown",
   "metadata": {},
   "source": [
    "### 2. extraccion lista de eventos tomo 1"
   ]
  },
  {
   "cell_type": "code",
   "execution_count": 7,
   "metadata": {},
   "outputs": [],
   "source": [
    "\n",
    "# funcion extraccion de eventos (no listo)\n",
    "\n",
    "def extract_events(html_content):\n",
    "    # parse html \n",
    "    soup = BeautifulSoup(html_content, 'html.parser')\n",
    "    \n",
    "    # sacar breaks \n",
    "    for br in soup.find_all('br'):\n",
    "        br.unwrap()\n",
    "    \n",
    "    # encontrar todas las italicas \n",
    "    italic_elements = soup.find_all('span', style=lambda value: value and 'font-family: TimesNewRoman,Italic' in value)\n",
    "    \n",
    "    # sacar todo el texto entre italicas como un solo evento \n",
    "    events = []\n",
    "    for italic_element in italic_elements:\n",
    "        # encontrar primera italic de un parrafo\n",
    "        parent_div = italic_element.find_parent('div')\n",
    "        \n",
    "        if parent_div:\n",
    "            # init \n",
    "            event_text = \"\"\n",
    "            \n",
    "            # iterar sobre los siblings hasta encontrar otra italica \n",
    "            next_sibling = parent_div.find_next_sibling()\n",
    "            while next_sibling:\n",
    "                \n",
    "                if 'Italic' in next_sibling.get('style', ''):\n",
    "                    break\n",
    "                \n",
    "                # append parrafo \n",
    "                event_text += next_sibling.get_text().strip() + \" \"\n",
    "                \n",
    "                # next child\n",
    "                next_sibling = next_sibling.find_next_sibling()\n",
    "            \n",
    "            # out\n",
    "            events.append(event_text.strip())\n",
    "    \n",
    "    return events\n",
    "\n",
    "# aplicar sobrre objeto html \n",
    "events = extract_events(html_content)\n",
    "\n",
    "# export \n",
    "events_list = pd.DataFrame({\"events\": events})\n",
    "events_list.to_csv('data_out/events_rettig.csv')\n",
    "\n"
   ]
  }
 ],
 "metadata": {
  "kernelspec": {
   "display_name": "Python 3",
   "language": "python",
   "name": "python3"
  },
  "language_info": {
   "codemirror_mode": {
    "name": "ipython",
    "version": 3
   },
   "file_extension": ".py",
   "mimetype": "text/x-python",
   "name": "python",
   "nbconvert_exporter": "python",
   "pygments_lexer": "ipython3",
   "version": "3.11.5"
  }
 },
 "nbformat": 4,
 "nbformat_minor": 2
}
