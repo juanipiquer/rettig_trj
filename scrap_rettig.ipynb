{
 "cells": [
  {
   "cell_type": "markdown",
   "metadata": {},
   "source": [
    "Hola Juan Ignacio, ¿como estas? Espero que todo vaya bien contigo.\n",
    "\n",
    "Me demore un poco más de lo presupuestado en escribirte. Abajo va una descripción del problema y lo que nos gustaría que hicieras. Dime que te parece el problema, todas las ideas bienvenidas.\n",
    "\n",
    "Nos gustaría que nos hicieras al final una presentación con tus principales findings del tema, además de entregarnos tu notebook.\n",
    "\n",
    "Encantado de que tengamos una llamada para aclarar las dudas que tengas. Puede ser conmigo o con Brayan que esta copiado en el mail.\n",
    "\n",
    "Yo salgo de vacaciones el sábado, pero estaré conectado a partir del 1 de febrero.\n",
    "\n",
    "Saludos,\n",
    "\n",
    "Cristobal\n",
    "\n",
    "Contexto del Problema:\n",
    "\n",
    "El proyecto se centra en el Tomo 1 de Retting, que relata eventos y experiencias desde 1973 durante la dictadura chilena. El análisis comienza desde la página 110, donde se encuentra el apartado \"Relato de Casos\", proporcionando un contexto narrativo detallado y significativo. (http://www.derechoshumanos.net/lesahumanidad/informes/Informe-Rettig-tomo1.pdf)\n",
    "\n",
    "Objetivo:\n",
    "\n",
    "El objetivo es rastrear la ruta de las personas mencionados en estos relatos. Esto implica identificar lugares, recintos, fechas y otras figuras clave. Un ejemplo sería:\n",
    "\n",
    "•             Para Juan Pérez:\n",
    "\n",
    "•             1978: Detenido en [Lugar].\n",
    "\n",
    "•             1980: Visto en [Recinto].\n",
    "\n",
    "•             1981: Su cuerpo fue encontrado en [Lugar] junto a [Otros Individuos].\n",
    "\n",
    "Esta representación es una de varias posibles y la elección del método final dependerá de los resultados preliminares y la efectividad en la comunicación de la información.\n",
    "\n",
    "Naturaleza Exploratoria del Proyecto:\n",
    "\n",
    "Este proyecto es de carácter exploratorio. Se espera que, a través de la experimentación con diferentes métodos y técnicas, se puedan obtener resultados significativos. Es fundamental documentar no solo estos resultados, sino también las conclusiones derivadas de ellos y sugerir posibles próximos pasos para mejorar y afinar los métodos utilizados.\n",
    "\n",
    "Recomendaciones:\n",
    "\n",
    "Para el desarrollo del proyecto, se recomienda:\n",
    "\n",
    "•             Investigar estado del arte sobre modelos NER, REL y MML.\n",
    "\n",
    "•             Utilizar un notebook bien documentado (como Jupyter) para registrar el proceso, los resultados, conclusiones y recomendaciones para futuros trabajos."
   ]
  },
  {
   "cell_type": "markdown",
   "metadata": {},
   "source": [
    "Contexto del Problema:\n",
    "\n",
    "El proyecto se centra en el Tomo 1 de Retting, que relata eventos y experiencias desde 1973 durante la dictadura chilena. El análisis comienza desde la página 110, donde se encuentra el apartado \"Relato de Casos\", proporcionando un contexto narrativo detallado y significativo. (http://www.derechoshumanos.net/lesahumanidad/informes/Informe-Rettig-tomo1.pdf)\n",
    "\n",
    "Objetivo:\n",
    "\n",
    "El objetivo es rastrear la ruta de las personas mencionados en estos relatos. Esto implica identificar lugares, recintos, fechas y otras figuras clave. Un ejemplo sería:\n",
    "\n",
    "•             Para Juan Pérez:\n",
    "\n",
    "•             1978: Detenido en [Lugar].\n",
    "\n",
    "•             1980: Visto en [Recinto].\n",
    "\n",
    "•             1981: Su cuerpo fue encontrado en [Lugar] junto a [Otros Individuos].\n",
    "\n",
    "Esta representación es una de varias posibles y la elección del método final dependerá de los resultados preliminares y la efectividad en la comunicación de la información.\n",
    "\n",
    "Naturaleza Exploratoria del Proyecto:\n",
    "\n",
    "Este proyecto es de carácter exploratorio. Se espera que, a través de la experimentación con diferentes métodos y técnicas, se puedan obtener resultados significativos. Es fundamental documentar no solo estos resultados, sino también las conclusiones derivadas de ellos y sugerir posibles próximos pasos para mejorar y afinar los métodos utilizados.\n",
    "\n",
    "Recomendaciones:\n",
    "\n",
    "Para el desarrollo del proyecto, se recomienda:\n",
    "\n",
    "•             Investigar estado del arte sobre modelos NER, REL y MML.\n",
    "\n",
    "•             Utilizar un notebook bien documentado (como Jupyter) para registrar el proceso, los resultados, conclusiones y recomendaciones para futuros trabajos."
   ]
  },
  {
   "cell_type": "markdown",
   "metadata": {},
   "source": [
    "https://medium.com/@jangidajay271/transforming-unstructured-text-into-structured-insights-with-nlp-techniques-f0537583f563\n",
    "\n",
    "https://unstructured-io.github.io/unstructured/core/chunking.html\n",
    "\n"
   ]
  },
  {
   "cell_type": "markdown",
   "metadata": {},
   "source": [
    "https://chat.openai.com/share/f37710ad-31c7-4655-a1ce-663263c987d5\n"
   ]
  },
  {
   "cell_type": "markdown",
   "metadata": {},
   "source": []
  }
 ],
 "metadata": {
  "language_info": {
   "name": "python"
  }
 },
 "nbformat": 4,
 "nbformat_minor": 2
}
